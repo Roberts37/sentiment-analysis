{
 "cells": [
  {
   "cell_type": "markdown",
   "id": "d9710ff0-acee-44ee-8767-c72fbd313af7",
   "metadata": {},
   "source": [
    "# Yelp Sentiment Analysis with BERT\n",
    "\n",
    "## Project Overview:\n",
    "\n",
    "In the Yelp Sentiment Analysis with BERT project, I undertook the task of sentiment analysis on Yelp reviews using state-of-the-art natural language processing techniques. The goal of the project was to analyze the sentiment of user reviews for various desert businesses on Yelp, providing valuable insights into customer opinions.\n",
    "\n",
    "## Key Components:\n",
    "\n",
    "### 1. Web Scraping:\n",
    "\n",
    "- Utilized web scraping techniques to extract reviews from Yelp pages of different desert businesses.\n",
    "- Employed the BeautifulSoup library to parse HTML content and retrieve relevant information.\n",
    "\n",
    "### 2. Sentiment Analysis with BERT:\n",
    "\n",
    "- Implemented sentiment analysis using BERT, a powerful transformer-based model for natural language processing.\n",
    "- Utilized the Hugging Face Transformers library to access a pre-trained BERT model for sequence classification.\n",
    "- Tokenized the reviews, passed them through the BERT model, and extracted sentiment scores.\n",
    "\n",
    "### 3. Data Storage and Manipulation:\n",
    "\n",
    "- Employed the pandas library to store and manipulate data in a structured format.\n",
    "- Created a DataFrame to store reviews and their corresponding sentiment scores.\n",
    "- Iterated over multiple Yelp URLs, collected reviews, and appended them to the DataFrame.\n",
    "\n",
    "## Technologies Used:\n",
    "\n",
    "- Python\n",
    "- BeautifulSoup\n",
    "- Hugging Face Transformers\n",
    "- Pandas\n",
    "\n",
    "## Conclusion:\n",
    "\n",
    "This Yelp Sentiment Analysis project not only showcases technical skills in web scraping and natural language processing but also highlights the ability to extract meaningful insights from unstructured data. The sentiment scores can be leveraged by businesses to understand customer sentiments and improve overall customer satisfaction."
   ]
  },
  {
   "cell_type": "code",
   "execution_count": 1,
   "id": "004ef4da-deea-4a7a-b5f4-1a856eacb9c4",
   "metadata": {},
   "outputs": [],
   "source": [
    "# Import the necessary libraries\n",
    "from transformers import AutoTokenizer, AutoModelForSequenceClassification\n",
    "import torch\n",
    "import requests\n",
    "from bs4 import BeautifulSoup\n",
    "import re\n",
    "import numpy as np\n",
    "import pandas as pd"
   ]
  },
  {
   "cell_type": "markdown",
   "id": "c6879e0c-7749-451c-9970-d7c8a7b11472",
   "metadata": {},
   "source": [
    "### Loading BERT"
   ]
  },
  {
   "cell_type": "code",
   "execution_count": 2,
   "id": "239de1a3-b2b1-411b-ade7-bda0d07d81a7",
   "metadata": {},
   "outputs": [],
   "source": [
    "# Load the pre-trained tokenizer for sentiment analysis\n",
    "tokenizer = AutoTokenizer.from_pretrained('nlptown/bert-base-multilingual-uncased-sentiment')\n",
    "\n",
    "# Load the pre-trained model for sentiment analysis\n",
    "model = AutoModelForSequenceClassification.from_pretrained('nlptown/bert-base-multilingual-uncased-sentiment')"
   ]
  },
  {
   "cell_type": "markdown",
   "id": "12219c18-0c8a-45f2-80c4-1c11b99538a1",
   "metadata": {},
   "source": [
    "### Testing sentiment analysis on one line"
   ]
  },
  {
   "cell_type": "code",
   "execution_count": 3,
   "id": "c733fd6b-2014-41e3-a47f-5829ea0a286f",
   "metadata": {},
   "outputs": [],
   "source": [
    "# Tokenize the input text using the pre-trained tokenizer\n",
    "text = 'this movie was the greatest i have ever seen in my life'\n",
    "tokens = tokenizer.encode(text, return_tensors='pt')"
   ]
  },
  {
   "cell_type": "code",
   "execution_count": 4,
   "id": "8e30902d-272b-4468-9f4e-1b46a10396ca",
   "metadata": {},
   "outputs": [],
   "source": [
    "# Pass the encoded tokens through the pre-trained sentiment analysis model\n",
    "result = model(tokens)"
   ]
  },
  {
   "cell_type": "code",
   "execution_count": 5,
   "id": "9830d41c-6783-4907-bb2a-c201896534bc",
   "metadata": {},
   "outputs": [],
   "source": [
    "# Access the raw output logits from the model's result\n",
    "logits = result.logits"
   ]
  },
  {
   "cell_type": "code",
   "execution_count": 6,
   "id": "a8091920-0557-425e-afbc-24cb53a063ee",
   "metadata": {},
   "outputs": [
    {
     "name": "stdout",
     "output_type": "stream",
     "text": [
      "The predicted sentiment for: \"this movie was the greatest i have ever seen in my life\" is 5\n"
     ]
    }
   ],
   "source": [
    "# Find the index of the maximum logit score and add 1 to get the predicted sentiment class\n",
    "predicted_sentiment_class = int(torch.argmax(result.logits)) + 1\n",
    "print(f'The predicted sentiment for: \"{text}\" is {predicted_sentiment_class}')"
   ]
  },
  {
   "cell_type": "markdown",
   "id": "87737fab-5b0e-4f48-bbae-43c674b155e5",
   "metadata": {},
   "source": [
    "### Web scraping"
   ]
  },
  {
   "cell_type": "code",
   "execution_count": 7,
   "id": "0e476c9c-60fb-41b8-9d85-ae8cdf8415c2",
   "metadata": {},
   "outputs": [],
   "source": [
    "def get_reviews_from_yelp(url):\n",
    "    # Make a GET request to the Yelp page for a specific business\n",
    "    r = requests.get(url)\n",
    "\n",
    "    # Parse the HTML content using BeautifulSoup\n",
    "    soup = BeautifulSoup(r.text, 'html.parser')\n",
    "\n",
    "    # Define a regular expression for matching class names containing 'comment'\n",
    "    regex = re.compile('.*comment.*')\n",
    "\n",
    "    # Find all 'p' (paragraph) elements with class names matching the regex pattern\n",
    "    results = soup.find_all('p', {'class': regex})\n",
    "\n",
    "    # Extract the text content from each matching element and store it in the 'reviews' list\n",
    "    reviews = [result.text for result in results]\n",
    "\n",
    "    return reviews"
   ]
  },
  {
   "cell_type": "code",
   "execution_count": 8,
   "id": "2445b934-6c52-4d42-9134-90874d25f3ff",
   "metadata": {},
   "outputs": [],
   "source": [
    "# List the urls for business we want to scrape data from\n",
    "yelp_urls = [\n",
    "    'https://www.yelp.com/biz/crumbl-cookies-salt-lake-city-salt-lake-city-3?osq=crumbl+cookies',\n",
    "    'https://www.yelp.com/biz/twisted-sugar-salt-lake-city-2?osq=twisted+sugar',\n",
    "    'https://www.yelp.com/biz/swig-salt-lake-city-4?osq=Swig+Soda'\n",
    "]"
   ]
  },
  {
   "cell_type": "code",
   "execution_count": 9,
   "id": "25b64c41-ed45-41d2-9188-4c68972b3647",
   "metadata": {},
   "outputs": [],
   "source": [
    "# Create a Pandas DataFrame from the list of reviews\n",
    "df = pd.DataFrame(columns=['review'])"
   ]
  },
  {
   "cell_type": "code",
   "execution_count": 10,
   "id": "abf9d6be-6b2d-4995-94f1-1b255ce724ff",
   "metadata": {},
   "outputs": [],
   "source": [
    "# Loop through the urls and add data to a dataframe\n",
    "for url in yelp_urls:\n",
    "    business_reviews = get_reviews_from_yelp(url)\n",
    "    df = pd.concat([df, pd.DataFrame({'review': business_reviews})], ignore_index=True)"
   ]
  },
  {
   "cell_type": "code",
   "execution_count": 11,
   "id": "ef42ccea-746b-49e6-a0fe-884b88582ce6",
   "metadata": {},
   "outputs": [
    {
     "data": {
      "text/html": [
       "<div>\n",
       "<style scoped>\n",
       "    .dataframe tbody tr th:only-of-type {\n",
       "        vertical-align: middle;\n",
       "    }\n",
       "\n",
       "    .dataframe tbody tr th {\n",
       "        vertical-align: top;\n",
       "    }\n",
       "\n",
       "    .dataframe thead th {\n",
       "        text-align: right;\n",
       "    }\n",
       "</style>\n",
       "<table border=\"1\" class=\"dataframe\">\n",
       "  <thead>\n",
       "    <tr style=\"text-align: right;\">\n",
       "      <th></th>\n",
       "      <th>review</th>\n",
       "    </tr>\n",
       "  </thead>\n",
       "  <tbody>\n",
       "    <tr>\n",
       "      <th>0</th>\n",
       "      <td>I love Crumbl so much. We usually bike here an...</td>\n",
       "    </tr>\n",
       "    <tr>\n",
       "      <th>1</th>\n",
       "      <td>Lots of parking. Never a line. Cookies are mad...</td>\n",
       "    </tr>\n",
       "    <tr>\n",
       "      <th>2</th>\n",
       "      <td>Crumbl cookies always satisfies my cookie crav...</td>\n",
       "    </tr>\n",
       "    <tr>\n",
       "      <th>3</th>\n",
       "      <td>I came here to get a free birthday cookie beca...</td>\n",
       "    </tr>\n",
       "    <tr>\n",
       "      <th>4</th>\n",
       "      <td>What I love about crumbl- different flavors ev...</td>\n",
       "    </tr>\n",
       "  </tbody>\n",
       "</table>\n",
       "</div>"
      ],
      "text/plain": [
       "                                              review\n",
       "0  I love Crumbl so much. We usually bike here an...\n",
       "1  Lots of parking. Never a line. Cookies are mad...\n",
       "2  Crumbl cookies always satisfies my cookie crav...\n",
       "3  I came here to get a free birthday cookie beca...\n",
       "4  What I love about crumbl- different flavors ev..."
      ]
     },
     "execution_count": 11,
     "metadata": {},
     "output_type": "execute_result"
    }
   ],
   "source": [
    "# Check the first 5 rows of the dataframe\n",
    "df.head()"
   ]
  },
  {
   "cell_type": "code",
   "execution_count": 12,
   "id": "8a4aa65a-32c1-43c2-a5ab-cdf693898546",
   "metadata": {},
   "outputs": [
    {
     "data": {
      "text/plain": [
       "36"
      ]
     },
     "execution_count": 12,
     "metadata": {},
     "output_type": "execute_result"
    }
   ],
   "source": [
    "# Check how many entries there is in the dataframe\n",
    "len(df.index)"
   ]
  },
  {
   "cell_type": "markdown",
   "id": "b513ac61-7e2b-4972-900f-3c71b7a5cb77",
   "metadata": {},
   "source": [
    "### Generate sentiment scores on our dataframe"
   ]
  },
  {
   "cell_type": "code",
   "execution_count": 13,
   "id": "e3954041-06bf-459d-b828-d22a0d3bb140",
   "metadata": {},
   "outputs": [],
   "source": [
    "def sentiment_score(review):\n",
    "    # Tokenize the input review using the pre-trained tokenizer\n",
    "    tokens = tokenizer.encode(review, return_tensors='pt')\n",
    "    # Pass the encoded tokens through the pre-trained sentiment analysis model\n",
    "    result = model(tokens)\n",
    "    # Find the index of the maximum logit score and add 1 to get the predicted sentiment class\n",
    "    return int(torch.argmax(result.logits))+1"
   ]
  },
  {
   "cell_type": "code",
   "execution_count": 14,
   "id": "eef8ae8c-f471-48bc-b1e1-f4337477a371",
   "metadata": {},
   "outputs": [],
   "source": [
    "# Add a new column 'sentiment' to the DataFrame, containing sentiment scores for each review\n",
    "df['sentiment'] = df['review'].apply(lambda x: sentiment_score(x[:500]))"
   ]
  },
  {
   "cell_type": "code",
   "execution_count": 15,
   "id": "6f8afaa6-d983-4bcd-8d7b-4ae071b8b7d5",
   "metadata": {},
   "outputs": [
    {
     "data": {
      "text/html": [
       "<div>\n",
       "<style scoped>\n",
       "    .dataframe tbody tr th:only-of-type {\n",
       "        vertical-align: middle;\n",
       "    }\n",
       "\n",
       "    .dataframe tbody tr th {\n",
       "        vertical-align: top;\n",
       "    }\n",
       "\n",
       "    .dataframe thead th {\n",
       "        text-align: right;\n",
       "    }\n",
       "</style>\n",
       "<table border=\"1\" class=\"dataframe\">\n",
       "  <thead>\n",
       "    <tr style=\"text-align: right;\">\n",
       "      <th></th>\n",
       "      <th>review</th>\n",
       "      <th>sentiment</th>\n",
       "    </tr>\n",
       "  </thead>\n",
       "  <tbody>\n",
       "    <tr>\n",
       "      <th>0</th>\n",
       "      <td>I love Crumbl so much. We usually bike here an...</td>\n",
       "      <td>5</td>\n",
       "    </tr>\n",
       "    <tr>\n",
       "      <th>1</th>\n",
       "      <td>Lots of parking. Never a line. Cookies are mad...</td>\n",
       "      <td>4</td>\n",
       "    </tr>\n",
       "    <tr>\n",
       "      <th>2</th>\n",
       "      <td>Crumbl cookies always satisfies my cookie crav...</td>\n",
       "      <td>5</td>\n",
       "    </tr>\n",
       "    <tr>\n",
       "      <th>3</th>\n",
       "      <td>I came here to get a free birthday cookie beca...</td>\n",
       "      <td>3</td>\n",
       "    </tr>\n",
       "    <tr>\n",
       "      <th>4</th>\n",
       "      <td>What I love about crumbl- different flavors ev...</td>\n",
       "      <td>3</td>\n",
       "    </tr>\n",
       "    <tr>\n",
       "      <th>5</th>\n",
       "      <td>I finally tried Crumbl after hearing so much p...</td>\n",
       "      <td>2</td>\n",
       "    </tr>\n",
       "    <tr>\n",
       "      <th>6</th>\n",
       "      <td>Worst customer service I have ever had. Refuse...</td>\n",
       "      <td>1</td>\n",
       "    </tr>\n",
       "    <tr>\n",
       "      <th>7</th>\n",
       "      <td>Tasty cookies and great customer service at th...</td>\n",
       "      <td>5</td>\n",
       "    </tr>\n",
       "    <tr>\n",
       "      <th>8</th>\n",
       "      <td>Hi John.  We appreciate the great review! So g...</td>\n",
       "      <td>5</td>\n",
       "    </tr>\n",
       "    <tr>\n",
       "      <th>9</th>\n",
       "      <td>Seems like they have a different recipe than o...</td>\n",
       "      <td>3</td>\n",
       "    </tr>\n",
       "    <tr>\n",
       "      <th>10</th>\n",
       "      <td>Chanced upon this location during our vacation...</td>\n",
       "      <td>5</td>\n",
       "    </tr>\n",
       "    <tr>\n",
       "      <th>11</th>\n",
       "      <td>Sad to say this one of the worst twisted sugar...</td>\n",
       "      <td>1</td>\n",
       "    </tr>\n",
       "    <tr>\n",
       "      <th>12</th>\n",
       "      <td>Twisted sugar has good soda with a wide variet...</td>\n",
       "      <td>4</td>\n",
       "    </tr>\n",
       "    <tr>\n",
       "      <th>13</th>\n",
       "      <td>So excited this Twisted Sugar location just op...</td>\n",
       "      <td>5</td>\n",
       "    </tr>\n",
       "    <tr>\n",
       "      <th>14</th>\n",
       "      <td>I absolutely love twisted sugar but I don't li...</td>\n",
       "      <td>2</td>\n",
       "    </tr>\n",
       "    <tr>\n",
       "      <th>15</th>\n",
       "      <td>Surprisingly good sugar cookies. I love cookie...</td>\n",
       "      <td>5</td>\n",
       "    </tr>\n",
       "    <tr>\n",
       "      <th>16</th>\n",
       "      <td>Went to this location today and ended up with ...</td>\n",
       "      <td>1</td>\n",
       "    </tr>\n",
       "    <tr>\n",
       "      <th>17</th>\n",
       "      <td>We got here 10 minutes before it closed and th...</td>\n",
       "      <td>1</td>\n",
       "    </tr>\n",
       "    <tr>\n",
       "      <th>18</th>\n",
       "      <td>GET THE STRAWBERRY BREEZE. It is healthy, wate...</td>\n",
       "      <td>5</td>\n",
       "    </tr>\n",
       "    <tr>\n",
       "      <th>19</th>\n",
       "      <td>Get here before the line (but line management ...</td>\n",
       "      <td>4</td>\n",
       "    </tr>\n",
       "    <tr>\n",
       "      <th>20</th>\n",
       "      <td>Thanks for sharing with us, Catherine! We're g...</td>\n",
       "      <td>5</td>\n",
       "    </tr>\n",
       "    <tr>\n",
       "      <th>21</th>\n",
       "      <td>I may or may not have been obsessed with readi...</td>\n",
       "      <td>3</td>\n",
       "    </tr>\n",
       "    <tr>\n",
       "      <th>22</th>\n",
       "      <td>Hi Chandra, thank you for giving us a try! We ...</td>\n",
       "      <td>5</td>\n",
       "    </tr>\n",
       "    <tr>\n",
       "      <th>23</th>\n",
       "      <td>Quick yummy drinks without getting out of the ...</td>\n",
       "      <td>5</td>\n",
       "    </tr>\n",
       "    <tr>\n",
       "      <th>24</th>\n",
       "      <td>Thanks for sharing, Joanna! We're glad you can...</td>\n",
       "      <td>5</td>\n",
       "    </tr>\n",
       "    <tr>\n",
       "      <th>25</th>\n",
       "      <td>I never heard of a dirty soda until I went to ...</td>\n",
       "      <td>4</td>\n",
       "    </tr>\n",
       "    <tr>\n",
       "      <th>26</th>\n",
       "      <td>Thank you for your rating and detailed review,...</td>\n",
       "      <td>5</td>\n",
       "    </tr>\n",
       "    <tr>\n",
       "      <th>27</th>\n",
       "      <td>I came here last week to give \"dirty soda\" ano...</td>\n",
       "      <td>4</td>\n",
       "    </tr>\n",
       "    <tr>\n",
       "      <th>28</th>\n",
       "      <td>Thank you for taking the time to share your ex...</td>\n",
       "      <td>5</td>\n",
       "    </tr>\n",
       "    <tr>\n",
       "      <th>29</th>\n",
       "      <td>On a recent trip to the area, we had heard goo...</td>\n",
       "      <td>4</td>\n",
       "    </tr>\n",
       "    <tr>\n",
       "      <th>30</th>\n",
       "      <td>Hi Justin, we appreciate hearing all the thing...</td>\n",
       "      <td>5</td>\n",
       "    </tr>\n",
       "    <tr>\n",
       "      <th>31</th>\n",
       "      <td>My husband and I took a road trip and drove th...</td>\n",
       "      <td>5</td>\n",
       "    </tr>\n",
       "    <tr>\n",
       "      <th>32</th>\n",
       "      <td>We're glad to hear we live up to the hype, Gen...</td>\n",
       "      <td>4</td>\n",
       "    </tr>\n",
       "    <tr>\n",
       "      <th>33</th>\n",
       "      <td>Our drinks were all absolutely a delicious del...</td>\n",
       "      <td>5</td>\n",
       "    </tr>\n",
       "    <tr>\n",
       "      <th>34</th>\n",
       "      <td>Thanks for letting us know our Spring Fling an...</td>\n",
       "      <td>5</td>\n",
       "    </tr>\n",
       "    <tr>\n",
       "      <th>35</th>\n",
       "      <td>I'm not one to leave bad reviews places becaus...</td>\n",
       "      <td>2</td>\n",
       "    </tr>\n",
       "  </tbody>\n",
       "</table>\n",
       "</div>"
      ],
      "text/plain": [
       "                                               review  sentiment\n",
       "0   I love Crumbl so much. We usually bike here an...          5\n",
       "1   Lots of parking. Never a line. Cookies are mad...          4\n",
       "2   Crumbl cookies always satisfies my cookie crav...          5\n",
       "3   I came here to get a free birthday cookie beca...          3\n",
       "4   What I love about crumbl- different flavors ev...          3\n",
       "5   I finally tried Crumbl after hearing so much p...          2\n",
       "6   Worst customer service I have ever had. Refuse...          1\n",
       "7   Tasty cookies and great customer service at th...          5\n",
       "8   Hi John.  We appreciate the great review! So g...          5\n",
       "9   Seems like they have a different recipe than o...          3\n",
       "10  Chanced upon this location during our vacation...          5\n",
       "11  Sad to say this one of the worst twisted sugar...          1\n",
       "12  Twisted sugar has good soda with a wide variet...          4\n",
       "13  So excited this Twisted Sugar location just op...          5\n",
       "14  I absolutely love twisted sugar but I don't li...          2\n",
       "15  Surprisingly good sugar cookies. I love cookie...          5\n",
       "16  Went to this location today and ended up with ...          1\n",
       "17  We got here 10 minutes before it closed and th...          1\n",
       "18  GET THE STRAWBERRY BREEZE. It is healthy, wate...          5\n",
       "19  Get here before the line (but line management ...          4\n",
       "20  Thanks for sharing with us, Catherine! We're g...          5\n",
       "21  I may or may not have been obsessed with readi...          3\n",
       "22  Hi Chandra, thank you for giving us a try! We ...          5\n",
       "23  Quick yummy drinks without getting out of the ...          5\n",
       "24  Thanks for sharing, Joanna! We're glad you can...          5\n",
       "25  I never heard of a dirty soda until I went to ...          4\n",
       "26  Thank you for your rating and detailed review,...          5\n",
       "27  I came here last week to give \"dirty soda\" ano...          4\n",
       "28  Thank you for taking the time to share your ex...          5\n",
       "29  On a recent trip to the area, we had heard goo...          4\n",
       "30  Hi Justin, we appreciate hearing all the thing...          5\n",
       "31  My husband and I took a road trip and drove th...          5\n",
       "32  We're glad to hear we live up to the hype, Gen...          4\n",
       "33  Our drinks were all absolutely a delicious del...          5\n",
       "34  Thanks for letting us know our Spring Fling an...          5\n",
       "35  I'm not one to leave bad reviews places becaus...          2"
      ]
     },
     "execution_count": 15,
     "metadata": {},
     "output_type": "execute_result"
    }
   ],
   "source": [
    "# Overview of the dataframe\n",
    "df"
   ]
  },
  {
   "cell_type": "markdown",
   "id": "318bfd24-471d-4862-a187-069491bb52a1",
   "metadata": {},
   "source": [
    "### View results"
   ]
  },
  {
   "cell_type": "code",
   "execution_count": 16,
   "id": "2a0c1061-7757-4cae-8add-389f3f7e795b",
   "metadata": {},
   "outputs": [
    {
     "data": {
      "text/plain": [
       "\"I love Crumbl so much. We usually bike here and share a cookie. It's a nice treat and the variety of cookies keeps us coming back. This time we had the Pumpkin Spice Cookie. It was amazing and served warm.\""
      ]
     },
     "execution_count": 16,
     "metadata": {},
     "output_type": "execute_result"
    }
   ],
   "source": [
    "# Check the highest score\n",
    "df['review'].iloc[0]"
   ]
  },
  {
   "cell_type": "code",
   "execution_count": 17,
   "id": "b775eb06-ade1-4c54-8358-dba149516517",
   "metadata": {},
   "outputs": [
    {
     "data": {
      "text/plain": [
       "\"Went to this location today and ended up with this piece of silicone or rubber in my drink. I called to let them know and best they had for me was sorry. I've been there 3 times since I found about them a week ago. Glad to say they have lost a repeat customer. They should work on a better compensation than sorry.\""
      ]
     },
     "execution_count": 17,
     "metadata": {},
     "output_type": "execute_result"
    }
   ],
   "source": [
    "# Check the lowest score\n",
    "df['review'].iloc[16]"
   ]
  },
  {
   "cell_type": "code",
   "execution_count": null,
   "id": "5210f450-bee9-4fc0-98c4-0b56fb6dfe41",
   "metadata": {},
   "outputs": [],
   "source": []
  }
 ],
 "metadata": {
  "kernelspec": {
   "display_name": "Python 3 (ipykernel)",
   "language": "python",
   "name": "python3"
  },
  "language_info": {
   "codemirror_mode": {
    "name": "ipython",
    "version": 3
   },
   "file_extension": ".py",
   "mimetype": "text/x-python",
   "name": "python",
   "nbconvert_exporter": "python",
   "pygments_lexer": "ipython3",
   "version": "3.11.6"
  }
 },
 "nbformat": 4,
 "nbformat_minor": 5
}
